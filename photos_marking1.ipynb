{
 "cells": [
  {
   "metadata": {},
   "cell_type": "markdown",
   "source": [
    "### Notebook Description: The Updated Approach\n",
    "\n",
    "This notebook shifts from MediaPipe's default joint-based landmarks to midpoint sampling for RGB extraction in hand images, addressing initial accuracy limitations (<80%) by focusing on interphalangeal areas (e.g., mid-phalanges) to better capture skin color variations indicative of health status. It processes normal (`Hands_nl`) and abnormal (`Hands_abnl`) folders, assigning labels (1/0), calculating midpoints for thumb/index/middle/ring/pinky segments, and averaging RGB within radii (1, 3, 5 pixels) to generate clean CSVs (`hand_color_data_midpoints_radius_{radius}.csv`). Visualizations (e.g., green circles at midpoints) aid interpretability, with outputs saved to marked folders. Error handling for empty patches (NaNs) ensures robustness, though rare (e.g., thumb segments in specific images). \n",
    "\n",
    "T-tests confirm strong separation (p < 0.001 across channels/radii, green highest t ~5.9-6.0), validating the approach—healthy hands brighter (e.g., avg green gaps ~30 points). \n",
    "\n",
    "Overall, a solid preprocessing pipeline; radius 5 pixels likely optimal for smoothing noise while retaining signal, setting up downstream ML (e.g., RF achieving 92% accuracy). Adding HSV sampling in the future for complementary features may enhance predictive accuracy.\n",
    "\n",
    "\n",
    "#### Methods\n",
    "\n",
    "##### Image Acquisition and Labeling\n",
    "Hand images were sourced from two directories: `Hands_nl` (normal/healthy hands, labeled as 1) and `Hands_abnl` (abnormal/unhealthy hands, labeled as 0), containing photographs in PNG, JPG, or JPEG formats. This binary classification reflects the project's ~127 valid images in the two categories were processed, ensuring case-insensitive extension handling for robustness.\n",
    "\n",
    "##### Hand Landmark Detection\n",
    "MediaPipe's Hands module (v0.10+, static_image_mode=True, max_num_hands=2, min_detection_confidence=0.5) was employed to detect hand landmarks in RGB-converted images (cv2.cvtColor BGR to RGB). This open-source framework identifies 21 landmarks per hand, forming the basis for subsequent midpoint calculations.\n",
    "\n",
    "##### Midpoint Calculation and RGB Sampling\n",
    "To avoid joint areas (less representative of overall skin tone), midpoints were computed between consecutive landmarks for each finger segment:\n",
    "- Thumb: Tip-IP (landmarks 4-3), IP-MCP (3-2).\n",
    "- Index/Middle/Ring/Pinky: Tip-DIP (8-7/12-11/16-15/20-19), DIP-PIP (7-6/11-10/15-14/19-18), PIP-MCP (6-5/10-9/14-13/18-17).\n",
    "\n",
    "Midpoint coordinates (cx, cy) were derived as the integer average of landmark pairs. RGB values were averaged over circular patches centered at each midpoint, with radii of 1, 3, and 5 pixels to evaluate smoothing effects (larger radii reduce noise from edges/shadows). Patch bounds were clamped to image dimensions (0 to height/width) to prevent out-of-bounds errors, with empty patches assigned NaN (imputed later via column means). This yielded ~84 features per image (RGB × segments × hands), stored in CSVs (`hand_color_data_midpoints_radius_{radius}.csv`).\n",
    "\n",
    "##### Image Visualization\n",
    "For qualitative assessment, original images were overlaid with MediaPipe's hand connections (mp_drawing.draw_landmarks) and green circles (cv2.circle, radius=5) at midpoints. Marked images were saved to `Hands_{nl/abnl}_marked_mid` folders, preserving filenames.\n",
    "\n",
    "##### Statistical Analysis\n",
    "Datasets were imputed (NaNs replaced with column means) and aggregated into average RGB channels (Avg_R/G/B). Independent t-tests (scipy.stats.ttest_ind) compared healthy vs. unhealthy groups per channel and radius, assessing significance (p < 0.05 threshold). Results were tabulated for inclusion in the report, highlighting channel-specific differences.\n",
    "\n",
    "This method ensures focused, noise-reduced RGB sampling, enabling downstream binary classification while maintaining traceability to source images."
   ],
   "id": "c42f93df223c1f81"
  },
  {
   "cell_type": "code",
   "id": "initial_id",
   "metadata": {
    "collapsed": true,
    "ExecuteTime": {
     "end_time": "2025-08-01T17:06:08.619042Z",
     "start_time": "2025-08-01T17:06:04.850780Z"
    }
   },
   "source": [
    "import cv2\n",
    "import mediapipe as mp\n",
    "import pandas as pd\n",
    "import numpy as np\n",
    "import os"
   ],
   "outputs": [],
   "execution_count": 2
  },
  {
   "metadata": {},
   "cell_type": "markdown",
   "source": "## Apply markings to photos. Dataset with points radius 3 pixels",
   "id": "762bc0bdf40070da"
  },
  {
   "metadata": {
    "ExecuteTime": {
     "end_time": "2025-08-01T17:06:08.630132Z",
     "start_time": "2025-08-01T17:06:08.620048Z"
    }
   },
   "cell_type": "code",
   "source": [
    "mp_hands = mp.solutions.hands\n",
    "hands = mp_hands.Hands(static_image_mode=True, max_num_hands=1, min_detection_confidence=0.5)\n",
    "\n",
    "# Function to extract averaged RGB around landmarks\n",
    "def extract_averaged_rgb(image_path, radius=5):\n",
    "    img = cv2.imread(image_path)\n",
    "    if img is None:\n",
    "        print(f\"Failed to load image: {image_path}\")\n",
    "        return {}\n",
    "    img_rgb = cv2.cvtColor(img, cv2.COLOR_BGR2RGB)\n",
    "    results = hands.process(img_rgb)\n",
    "    if results.multi_hand_landmarks:\n",
    "        landmarks = results.multi_hand_landmarks[0]\n",
    "        h, w, _ = img_rgb.shape\n",
    "        rgb_values = {}\n",
    "        for i, lm in enumerate(landmarks.landmark):\n",
    "            cx, cy = int(lm.x * w), int(lm.y * h)\n",
    "            # Average RGB in radius, handling image boundaries\n",
    "            x_start, x_end = max(0, cx - radius), min(w, cx + radius + 1)\n",
    "            y_start, y_end = max(0, cy - radius), min(h, cy + radius + 1)\n",
    "            patch = img_rgb[y_start:y_end, x_start:x_end]\n",
    "            avg_rgb = np.mean(patch, axis=(0, 1)).astype(int)\n",
    "            rgb_values[f'Landmark_{i}_R'] = avg_rgb[0]\n",
    "            rgb_values[f'Landmark_{i}_G'] = avg_rgb[1]\n",
    "            rgb_values[f'Landmark_{i}_B'] = avg_rgb[2]\n",
    "        return rgb_values\n",
    "    return {}\n",
    "\n"
   ],
   "id": "27e68bd4f3722c9c",
   "outputs": [],
   "execution_count": 3
  },
  {
   "metadata": {},
   "cell_type": "markdown",
   "source": "",
   "id": "aac0b474d46d8a07"
  },
  {
   "metadata": {
    "ExecuteTime": {
     "end_time": "2025-08-01T17:06:11.794521Z",
     "start_time": "2025-08-01T17:06:09.610908Z"
    }
   },
   "cell_type": "code",
   "source": [
    "# Directory with photos \n",
    "photo_dir = '../Hands_nl'\n",
    "data = []\n",
    "valid_extensions = ('.png', '.jpg', '.jpeg', '.PNG', '.JPG', '.JPEG')  # Case-insensitive extensions\n",
    "\n",
    "for filename in os.listdir(photo_dir):\n",
    "    if any(filename.lower().endswith(ext.lower()) for ext in valid_extensions):\n",
    "        image_path = os.path.join(photo_dir, filename)\n",
    "        rgb_values = extract_averaged_rgb(image_path, radius=5)  # Adjust radius\n",
    "        if rgb_values:\n",
    "            rgb_values['Source'] = filename\n",
    "            rgb_values['Label'] = 0 if 'abnl' in filename.lower() else 1  # Case-insensitive label assignment\n",
    "            data.append(rgb_values)\n",
    "\n",
    "df_new = pd.DataFrame(data)\n",
    "df_new.to_csv('../data/hand_color_data_expanded_radius5.csv', index=False)\n",
    "print(\"Expanded data saved to 'hand_color_data_expanded_radius5.csv'\")"
   ],
   "id": "94b5bcb5310014f2",
   "outputs": [
    {
     "name": "stdout",
     "output_type": "stream",
     "text": [
      "Expanded data saved to 'hand_color_data_expanded_radius5.csv'\n"
     ]
    }
   ],
   "execution_count": 4
  },
  {
   "metadata": {},
   "cell_type": "markdown",
   "source": [
    "# Visualizing Photos with Points, Areas, and Size\n",
    "MediaPipe can overlay landmarks on images. To visualize:\n",
    "\n",
    "Points: Draw circles at landmarks.\n",
    "Areas: Draw larger circles (e.g., radius=5) to show sampling areas.\n",
    "Size Evaluation: Adjust circle size to represent sampling radius."
   ],
   "id": "787dbc12f2200731"
  },
  {
   "metadata": {},
   "cell_type": "markdown",
   "source": "### Process normal hands photos",
   "id": "a0afa7bdb43ed140"
  },
  {
   "metadata": {
    "ExecuteTime": {
     "end_time": "2025-08-01T17:06:15.563320Z",
     "start_time": "2025-08-01T17:06:13.112412Z"
    }
   },
   "cell_type": "code",
   "source": [
    "import cv2\n",
    "import mediapipe as mp\n",
    "import os\n",
    "\n",
    "mp_drawing = mp.solutions.drawing_utils\n",
    "mp_hands = mp.solutions.hands\n",
    "hands = mp_hands.Hands(static_image_mode=True, max_num_hands=1, min_detection_confidence=0.5)\n",
    "\n",
    "# Directory with photos and output (replace with folder paths)\n",
    "photo_dir = '../Hands_nl'\n",
    "output_dir = '../Hands_nl_marked'\n",
    "os.makedirs(output_dir, exist_ok=True)  # Create output directory if it doesn't exist\n",
    "valid_extensions = ('.png', '.jpg', '.jpeg', '.PNG', '.JPG', '.JPEG')\n",
    "\n",
    "for filename in os.listdir(photo_dir):\n",
    "    if any(filename.lower().endswith(ext.lower()) for ext in valid_extensions):\n",
    "        image_path = os.path.join(photo_dir, filename)\n",
    "        img = cv2.imread(image_path)\n",
    "        if img is None:\n",
    "            print(f\"Failed to load image: {image_path}\")\n",
    "            continue\n",
    "        img_rgb = cv2.cvtColor(img, cv2.COLOR_BGR2RGB)\n",
    "        results = hands.process(img_rgb)\n",
    "        if results.multi_hand_landmarks:\n",
    "            for landmarks in results.multi_hand_landmarks:\n",
    "                mp_drawing.draw_landmarks(img, landmarks, mp_hands.HAND_CONNECTIONS)\n",
    "                # Draw larger areas (sampling radius)\n",
    "                h, w, _ = img.shape\n",
    "                for lm in landmarks.landmark:\n",
    "                    cx, cy = int(lm.x * w), int(lm.y * h)\n",
    "                    cv2.circle(img, (cx, cy), 5, (0, 255, 0), 1)  # Green circle, adjust radius\n",
    "        output_path = os.path.join(output_dir, filename)\n",
    "        cv2.imwrite(output_path, cv2.cvtColor(img, cv2.COLOR_RGB2BGR))  # Convert back to BGR for saving\n",
    "print(\"Visualized photos saved to output folder.\")"
   ],
   "id": "9e6bda76c1eb7223",
   "outputs": [
    {
     "name": "stdout",
     "output_type": "stream",
     "text": [
      "Visualized photos saved to output folder.\n"
     ]
    }
   ],
   "execution_count": 5
  },
  {
   "metadata": {},
   "cell_type": "markdown",
   "source": "#### The photo below shows a photo with Mediapipes landmarks used initially for sampling. Some points land on interphalyngeal joints and have an unrepresentative hand color.",
   "id": "bc96f67e987413db"
  },
  {
   "metadata": {},
   "cell_type": "markdown",
   "source": "![](../images_and_graphs/hand_marked2.png)",
   "id": "5fcf0554bf2a544a"
  },
  {
   "metadata": {},
   "cell_type": "markdown",
   "source": "### Adjust code to mark at midpoints interphalangeal joint and create folders of the images marked at sampling midpoints",
   "id": "55c6e5c80f46356"
  },
  {
   "metadata": {},
   "cell_type": "markdown",
   "source": [
    "Explanation of Changes\n",
    "\n",
    "Multiple Folders: Added photo_dirs and output_dirs dictionaries to process both Hands_abnl and Hands_nl. The base path (base_photo_dir) adjustable to root.\n",
    "\n",
    "Midpoint Marking: Replaced the joint landmark circles with midpoint calculations using the midpoint function. For each finger, it draws green circles (radius=5 pixels) at the midpoints between consecutive landmarks (e.g., Tip-DIP, DIP-PIP, PIP-MCP for index/middle/ring/pinky; Tip-IP, IP-MCP for thumb).\n",
    "\n",
    "Joint Connections: Retained mp_drawing.draw_landmarks to show skeleton for context, with the focus on midpoint circles.\n",
    "\n",
    "Output: Saves marked photos to Hands_abnl_marked_mid and Hands_nl_marked_mid, preserving the original filenames."
   ],
   "id": "535fa40218331cbe"
  },
  {
   "metadata": {},
   "cell_type": "markdown",
   "source": [
    "### Adjust the code to sample from the midpoints between the existing MediaPipe hand landmarks (interphalangeal areas) instead of the joint points themselves. This involves calculating the midpoint coordinates for each finger segment (distal, middle, proximal phalanges) and averaging RGB values around those midpoints.\n",
    "\n",
    "Code adjustments:\n",
    "\n",
    "Process both Hands_nl and Hands_abnl folders.\n",
    "\n",
    "Assign Label based on folder name (0 for abnl, 1 for nl).\n",
    "\n",
    "Include the Source column with the original filename.\n",
    "\n",
    "\n",
    "Calculate midpoints for each finger segment:\n",
    "\n",
    "Thumb: Between Tip-IP, IP-MCP.\n",
    "Index/Middle/Ring/Pinky: Between Tip-DIP, DIP-PIP, PIP-MCP.\n",
    "\n",
    "\n",
    "Sample averaged RGB at these midpoints with radii 1, 3, and 5.\n",
    "\n",
    "Generate separate CSVs for radii 1, 3, and 5, sampling at midpoints between MediaPipe landmarks.\n",
    "\n",
    "Handle multiple hands if detected."
   ],
   "id": "aeb137f3a697d777"
  },
  {
   "metadata": {
    "ExecuteTime": {
     "end_time": "2025-08-01T17:06:20.113151Z",
     "start_time": "2025-08-01T17:06:20.103922Z"
    }
   },
   "cell_type": "code",
   "source": [
    "import cv2\n",
    "import mediapipe as mp\n",
    "import os\n",
    "\n",
    "mp_drawing = mp.solutions.drawing_utils\n",
    "mp_hands = mp.solutions.hands\n",
    "hands = mp_hands.Hands(static_image_mode=True, max_num_hands=1, min_detection_confidence=0.5)\n",
    "\n",
    "# Directories with photos and output (replace with base path)\n",
    "base_photo_dir = '../'  # Adjust this to base directory\n",
    "photo_dirs = {'Hands_abnl': os.path.join(base_photo_dir, 'Hands_abnl_marked_mid'),'Hands_nl': os.path.join(base_photo_dir, 'Hands_nl_marked_mid')}\n",
    "\n",
    "output_dirs = {'Hands_abnl': os.path.join(base_photo_dir, 'Hands_abnl_marked_mid'),'Hands_nl': os.path.join(base_photo_dir, 'Hands_nl_marked_mid')}\n",
    "\n",
    "# Create output directories if they don't exist\n",
    "for output_dir in output_dirs.values():\n",
    "    os.makedirs(output_dir, exist_ok=True)\n",
    "\n",
    "valid_extensions = ('.png', '.jpg', '.jpeg', '.PNG', '.JPG', '.JPEG')"
   ],
   "id": "9ce5fa2294edaf1d",
   "outputs": [],
   "execution_count": 6
  },
  {
   "metadata": {
    "ExecuteTime": {
     "end_time": "2025-08-01T17:06:32.078020Z",
     "start_time": "2025-08-01T17:06:23.844315Z"
    }
   },
   "cell_type": "code",
   "source": [
    "# Function to calculate midpoint between two landmarks\n",
    "def midpoint(lm1, lm2, w, h):\n",
    "    x1, y1 = int(lm1.x * w), int(lm1.y * h)\n",
    "    x2, y2 = int(lm2.x * w), int(lm2.y * h)\n",
    "    return (x1 + x2) // 2, (y1 + y2) // 2\n",
    "\n",
    "for folder, photo_dir in photo_dirs.items():\n",
    "    output_dir = output_dirs[folder]\n",
    "    for filename in os.listdir(photo_dir):\n",
    "        if any(filename.lower().endswith(ext.lower()) for ext in valid_extensions):\n",
    "            image_path = os.path.join(photo_dir, filename)\n",
    "            img = cv2.imread(image_path)\n",
    "            if img is None:\n",
    "                print(f\"Failed to load image: {image_path}\")\n",
    "                continue\n",
    "            img_rgb = cv2.cvtColor(img, cv2.COLOR_BGR2RGB)\n",
    "            results = hands.process(img_rgb)\n",
    "            if results.multi_hand_landmarks:\n",
    "                for landmarks in results.multi_hand_landmarks:\n",
    "                    h, w, _ = img.shape\n",
    "                    fingers = {\n",
    "                        'thumb': [4, 3, 2],  # Tip, IP, MCP\n",
    "                        'index': [8, 7, 6, 5],  # Tip, DIP, PIP, MCP\n",
    "                        'middle': [12, 11, 10, 9],\n",
    "                        'ring': [16, 15, 14, 13],\n",
    "                        'pinky': [20, 19, 18, 17]\n",
    "                    }\n",
    "                    # Draw midpoints\n",
    "                    for lm_ids in fingers.values():\n",
    "                        for segment in range(len(lm_ids) - 1):\n",
    "                            lm1 = landmarks.landmark[lm_ids[segment]]\n",
    "                            lm2 = landmarks.landmark[lm_ids[segment + 1]]\n",
    "                            cx, cy = midpoint(lm1, lm2, w, h)\n",
    "                            cv2.circle(img, (cx, cy), 5, (0, 255, 0), 1)  # Green circle at midpoint\n",
    "                    # Optionally draw joint connections for context\n",
    "                    mp_drawing.draw_landmarks(img, landmarks, mp_hands.HAND_CONNECTIONS)\n",
    "            output_path = os.path.join(output_dir, filename)\n",
    "            cv2.imwrite(output_path, cv2.cvtColor(img, cv2.COLOR_RGB2BGR))  # Convert back to BGR\n",
    "print(\"Visualized photos with midpoints saved to respective output folders.\")"
   ],
   "id": "963f0cc772e14b55",
   "outputs": [
    {
     "name": "stdout",
     "output_type": "stream",
     "text": [
      "Visualized photos with midpoints saved to respective output folders.\n"
     ]
    }
   ],
   "execution_count": 7
  },
  {
   "metadata": {},
   "cell_type": "markdown",
   "source": "",
   "id": "8b75008e5bfc776b"
  },
  {
   "metadata": {},
   "cell_type": "markdown",
   "source": "#### Green circles added to photos to indicate sampling region to create dataset with radii 1, 3, and 5 pixels.",
   "id": "db12d6c1f772aa36"
  },
  {
   "metadata": {},
   "cell_type": "markdown",
   "source": "![](../images_and_graphs/hand_marked_mid.png)",
   "id": "d37f30f48e80faeb"
  },
  {
   "metadata": {},
   "cell_type": "markdown",
   "source": "# Obtain Datasets",
   "id": "a0758a92046aedf5"
  },
  {
   "metadata": {
    "ExecuteTime": {
     "end_time": "2025-08-01T17:06:42.311764Z",
     "start_time": "2025-08-01T17:06:42.305295Z"
    }
   },
   "cell_type": "code",
   "source": [
    "import cv2\n",
    "import mediapipe as mp\n",
    "import pandas as pd\n",
    "import numpy as np\n",
    "import os\n",
    "\n",
    "mp_hands = mp.solutions.hands\n",
    "hands = mp_hands.Hands(static_image_mode=True, max_num_hands=2, min_detection_confidence=0.5)"
   ],
   "id": "a3d6077b98d07a97",
   "outputs": [],
   "execution_count": 8
  },
  {
   "metadata": {
    "ExecuteTime": {
     "end_time": "2025-08-01T17:06:43.450598Z",
     "start_time": "2025-08-01T17:06:43.447017Z"
    }
   },
   "cell_type": "code",
   "source": [
    "# Function to calculate midpoint between two landmarks\n",
    "def midpoint(lm1, lm2, w, h):\n",
    "    x1, y1 = int(lm1.x * w), int(lm1.y * h)\n",
    "    x2, y2 = int(lm2.x * w), int(lm2.y * h)\n",
    "    return (x1 + x2) // 2, (y1 + y2) // 2"
   ],
   "id": "4ad809a0c449940c",
   "outputs": [],
   "execution_count": 9
  },
  {
   "metadata": {
    "ExecuteTime": {
     "end_time": "2025-08-01T17:06:52.269809Z",
     "start_time": "2025-08-01T17:06:52.264403Z"
    }
   },
   "cell_type": "code",
   "source": [
    "# Function to extract averaged RGB at midpoints with error handling\n",
    "def extract_averaged_rgb_at_midpoints(image_path, radius=3):\n",
    "    img = cv2.imread(image_path)\n",
    "    if img is None:\n",
    "        print(f\"Failed to load image: {image_path}\")\n",
    "        return {}\n",
    "    img_rgb = cv2.cvtColor(img, cv2.COLOR_BGR2RGB)\n",
    "    h, w, _ = img_rgb.shape\n",
    "    results = hands.process(img_rgb)\n",
    "    if results.multi_hand_landmarks:\n",
    "        rgb_values = {}\n",
    "        for hand_idx, landmarks in enumerate(results.multi_hand_landmarks):\n",
    "            # Define finger segments and their landmark IDs\n",
    "            fingers = {\n",
    "                'thumb': [4, 3, 2],  # Tip, IP, MCP\n",
    "                'index': [8, 7, 6, 5],  # Tip, DIP, PIP, MCP\n",
    "                'middle': [12, 11, 10, 9],\n",
    "                'ring': [16, 15, 14, 13],\n",
    "                'pinky': [20, 19, 18, 17]\n",
    "            }\n",
    "            for finger, lm_ids in fingers.items():\n",
    "                for segment in range(len(lm_ids) - 1):\n",
    "                    lm1 = landmarks.landmark[lm_ids[segment]]\n",
    "                    lm2 = landmarks.landmark[lm_ids[segment + 1]]\n",
    "                    cx, cy = midpoint(lm1, lm2, w, h)\n",
    "                    # Define patch bounds with safety checks\n",
    "                    x_start = max(0, cx - radius)\n",
    "                    x_end = min(w, cx + radius + 1)\n",
    "                    y_start = max(0, cy - radius)\n",
    "                    y_end = min(h, cy + radius + 1)\n",
    "                    patch = img_rgb[y_start:y_end, x_start:x_end]\n",
    "                    if patch.size == 0:  # Check for empty patch\n",
    "                        print(f\"Empty patch at {finger}_segment_{segment}_{hand_idx} in {image_path}, using NaN\")\n",
    "                        avg_rgb = np.array([np.nan, np.nan, np.nan])\n",
    "                    else:\n",
    "                        avg_rgb = np.mean(patch, axis=(0, 1))\n",
    "                    # No astype(int) - keep as float for NaN support\n",
    "                    rgb_values[f'{finger}_segment_{segment}_{hand_idx}_R'] = avg_rgb[0]\n",
    "                    rgb_values[f'{finger}_segment_{segment}_{hand_idx}_G'] = avg_rgb[1]\n",
    "                    rgb_values[f'{finger}_segment_{segment}_{hand_idx}_B'] = avg_rgb[2]\n",
    "        return rgb_values\n",
    "    return {}"
   ],
   "id": "f37877d742b4775",
   "outputs": [],
   "execution_count": 11
  },
  {
   "metadata": {},
   "cell_type": "markdown",
   "source": "#### Process datasets with sampling radii 1,3 and 5.",
   "id": "f105a6c797f9c234"
  },
  {
   "metadata": {
    "ExecuteTime": {
     "end_time": "2025-08-01T17:07:24.131590Z",
     "start_time": "2025-08-01T17:07:24.128517Z"
    }
   },
   "cell_type": "code",
   "source": [
    "# Directory with photos (replace with folder paths if changed)\n",
    "photo_dirs = {\n",
    "    'Hands_nl': 1,  # Label 1 for normal/Healthy\n",
    "    'Hands_abnl': 0  # Label 0 for abnormal/Unhealthy\n",
    "}\n",
    "valid_extensions = ('.png', '.jpg', '.jpeg', '.PNG', '.JPG', '.JPEG')"
   ],
   "id": "d9519aef0c531e8f",
   "outputs": [],
   "execution_count": 13
  },
  {
   "metadata": {
    "ExecuteTime": {
     "end_time": "2025-08-01T17:07:25.131545Z",
     "start_time": "2025-08-01T17:07:25.127438Z"
    }
   },
   "cell_type": "code",
   "source": [
    "# Function to process datasets from both folders for different radii\n",
    "def process_dataset(radius):\n",
    "    data = []\n",
    "    for folder, label in photo_dirs.items():\n",
    "        folder_path = os.path.join('../', folder)  # Adjust base path\n",
    "        for filename in os.listdir(folder_path):\n",
    "            if any(filename.lower().endswith(ext.lower()) for ext in valid_extensions):\n",
    "                image_path = os.path.join(folder_path, filename)\n",
    "                rgb_values = extract_averaged_rgb_at_midpoints(image_path, radius=radius)\n",
    "                if rgb_values:\n",
    "                    rgb_values['Source'] = filename\n",
    "                    rgb_values['Label'] = label\n",
    "                    data.append(rgb_values)\n",
    "    df_new = pd.DataFrame(data)\n",
    "    output_file = f'../data/hand_color_data_midpoints_radius_{radius}.csv'\n",
    "    df_new.to_csv(output_file, index=False)\n",
    "    print(f\"Dataset for radius {radius} saved to '{output_file}'\")"
   ],
   "id": "1c3bf9e6aafe9cad",
   "outputs": [],
   "execution_count": 14
  },
  {
   "metadata": {},
   "cell_type": "markdown",
   "source": "### Make datasets for radii 1, 3, and 5",
   "id": "c17bd3a43f491cb4"
  },
  {
   "metadata": {
    "ExecuteTime": {
     "end_time": "2025-08-01T17:07:49.290131Z",
     "start_time": "2025-08-01T17:07:27.706809Z"
    }
   },
   "cell_type": "code",
   "source": [
    "# Make datasets for radii 1, 3, and 5 pixels\n",
    "for radius in [1, 3, 5]:\n",
    "    process_dataset(radius)"
   ],
   "id": "aeecb4b519f47869",
   "outputs": [
    {
     "name": "stdout",
     "output_type": "stream",
     "text": [
      "Empty patch at thumb_segment_0_1 in ../Hands_abnl\\hands_abnl_10.png, using NaN\n",
      "Empty patch at thumb_segment_0_0 in ../Hands_abnl\\IMG_9187.JPEG, using NaN\n",
      "Dataset for radius 1 saved to '../data/hand_color_data_midpoints_radius_1.csv'\n",
      "Empty patch at thumb_segment_0_1 in ../Hands_abnl\\hands_abnl_10.png, using NaN\n",
      "Empty patch at thumb_segment_0_0 in ../Hands_abnl\\IMG_9187.JPEG, using NaN\n",
      "Dataset for radius 3 saved to '../data/hand_color_data_midpoints_radius_3.csv'\n",
      "Empty patch at thumb_segment_0_1 in ../Hands_abnl\\hands_abnl_10.png, using NaN\n",
      "Empty patch at thumb_segment_0_0 in ../Hands_abnl\\IMG_9187.JPEG, using NaN\n",
      "Dataset for radius 5 saved to '../data/hand_color_data_midpoints_radius_5.csv'\n"
     ]
    }
   ],
   "execution_count": 15
  },
  {
   "metadata": {},
   "cell_type": "markdown",
   "source": "### T-test statistics",
   "id": "c68041118bf220b0"
  },
  {
   "metadata": {
    "ExecuteTime": {
     "end_time": "2025-08-01T18:52:02.860277Z",
     "start_time": "2025-08-01T18:52:02.798852Z"
    }
   },
   "cell_type": "code",
   "source": [
    "import pandas as pd\n",
    "from scipy.stats import ttest_ind\n",
    "\n",
    "for radius in [1, 3, 5]:\n",
    "    df = pd.read_csv(f'../data/hand_color_data_midpoints_radius_{radius}.csv')\n",
    "    df.fillna(df.mean(numeric_only=True), inplace=True)\n",
    "    df['Avg_R'] = df.filter(regex='_R$').mean(axis=1)\n",
    "    df['Avg_G'] = df.filter(regex='_G$').mean(axis=1)\n",
    "    df['Avg_B'] = df.filter(regex='_B$').mean(axis=1)\n",
    "    healthy = df[df['Label'] == 1]\n",
    "    unhealthy = df[df['Label'] == 0]\n",
    "    for channel in ['Avg_R', 'Avg_G', 'Avg_B']:\n",
    "        t_stat, p_val = ttest_ind(healthy[channel], unhealthy[channel])\n",
    "        print(f\"Radius {radius}, {channel}: t={t_stat:.2f}, p={p_val:.4e}\")"
   ],
   "id": "3bb5fbd8f8058935",
   "outputs": [
    {
     "name": "stdout",
     "output_type": "stream",
     "text": [
      "Radius 1, Avg_R: t=4.22, p=4.7240e-05\n",
      "Radius 1, Avg_G: t=5.90, p=3.1813e-08\n",
      "Radius 1, Avg_B: t=4.99, p=1.9682e-06\n",
      "Radius 3, Avg_R: t=4.15, p=6.1038e-05\n",
      "Radius 3, Avg_G: t=5.89, p=3.3506e-08\n",
      "Radius 3, Avg_B: t=4.96, p=2.2910e-06\n",
      "Radius 5, Avg_R: t=4.11, p=7.1264e-05\n",
      "Radius 5, Avg_G: t=5.99, p=2.0721e-08\n",
      "Radius 5, Avg_B: t=5.06, p=1.4491e-06\n"
     ]
    }
   ],
   "execution_count": 16
  },
  {
   "metadata": {},
   "cell_type": "markdown",
   "source": "#### All p-values are highly significant (p < 0.001), confirming substantial differences in average RGB values between healthy and unhealthy hands across radii and channels. The green channel consistently shows the highest t-statistics (~5.9), indicating the strongest separation.",
   "id": "1a6ab37f8f5b84f3"
  },
  {
   "metadata": {
    "ExecuteTime": {
     "end_time": "2025-08-01T18:56:01.852939Z",
     "start_time": "2025-08-01T18:56:01.846582Z"
    }
   },
   "cell_type": "code",
   "source": [
    "import pandas as pd\n",
    "def df_to_markdown(df):\n",
    "    # Header\n",
    "    markdown = '| ' + ' | '.join(df.columns) + ' |\\n'\n",
    "    # Separator\n",
    "    markdown += '| ' + ' | '.join(['---'] * len(df.columns)) + ' |\\n'\n",
    "    # Rows\n",
    "    for _, row in df.iterrows():\n",
    "        markdown += '| ' + ' | '.join(f'{val}' for val in row) + ' |\\n'\n",
    "    return markdown\n",
    "\n",
    "data = {\n",
    "    'Radius': [1, 1, 1, 3, 3, 3, 5, 5, 5],\n",
    "    'Channel': ['Avg_R', 'Avg_G', 'Avg_B', 'Avg_R', 'Avg_G', 'Avg_B', 'Avg_R', 'Avg_G', 'Avg_B'],\n",
    "    't-statistic': [4.22, 5.90, 4.99, 4.15, 5.89, 4.96, 4.11, 5.99, 5.06],\n",
    "    'p-value': ['4.7240e-05', '3.1813e-08', '1.9682e-06', '6.1038e-05', '3.3506e-08', '2.2910e-06', '7.1264e-05', '2.0721e-08', '1.4491e-06']\n",
    "}\n",
    "\n",
    "df_stats = pd.DataFrame(data)\n",
    "\n",
    "df_stats.to_csv('../data/stats', index=False)\n",
    "print(df_to_markdown(df_stats))"
   ],
   "id": "a587a62987172e1a",
   "outputs": [
    {
     "name": "stdout",
     "output_type": "stream",
     "text": [
      "| Radius | Channel | t-statistic | p-value |\n",
      "| --- | --- | --- | --- |\n",
      "| 1 | Avg_R | 4.22 | 4.7240e-05 |\n",
      "| 1 | Avg_G | 5.9 | 3.1813e-08 |\n",
      "| 1 | Avg_B | 4.99 | 1.9682e-06 |\n",
      "| 3 | Avg_R | 4.15 | 6.1038e-05 |\n",
      "| 3 | Avg_G | 5.89 | 3.3506e-08 |\n",
      "| 3 | Avg_B | 4.96 | 2.2910e-06 |\n",
      "| 5 | Avg_R | 4.11 | 7.1264e-05 |\n",
      "| 5 | Avg_G | 5.99 | 2.0721e-08 |\n",
      "| 5 | Avg_B | 5.06 | 1.4491e-06 |\n",
      "\n"
     ]
    }
   ],
   "execution_count": 17
  },
  {
   "metadata": {},
   "cell_type": "markdown",
   "source": [
    "\n",
    "### End of obtaining datasets"
   ],
   "id": "79012b279a0ab8e"
  }
 ],
 "metadata": {
  "kernelspec": {
   "display_name": "Python 3",
   "language": "python",
   "name": "python3"
  },
  "language_info": {
   "codemirror_mode": {
    "name": "ipython",
    "version": 2
   },
   "file_extension": ".py",
   "mimetype": "text/x-python",
   "name": "python",
   "nbconvert_exporter": "python",
   "pygments_lexer": "ipython2",
   "version": "2.7.6"
  }
 },
 "nbformat": 4,
 "nbformat_minor": 5
}
